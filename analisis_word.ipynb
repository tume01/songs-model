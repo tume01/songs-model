{
 "cells": [
  {
   "cell_type": "code",
   "execution_count": 1,
   "metadata": {
    "collapsed": true
   },
   "outputs": [],
   "source": [
    "import pandas as pd\n",
    "import numpy as np"
   ]
  },
  {
   "cell_type": "code",
   "execution_count": 6,
   "metadata": {
    "collapsed": false
   },
   "outputs": [
    {
     "data": {
      "text/html": [
       "<div>\n",
       "<table border=\"1\" class=\"dataframe\">\n",
       "  <thead>\n",
       "    <tr style=\"text-align: right;\">\n",
       "      <th></th>\n",
       "      <th>lyric</th>\n",
       "      <th>tag</th>\n",
       "      <th>pos</th>\n",
       "    </tr>\n",
       "  </thead>\n",
       "  <tbody>\n",
       "    <tr>\n",
       "      <th>0</th>\n",
       "      <td>ice river run cold city light shine silver gol...</td>\n",
       "      <td>happy</td>\n",
       "      <td>0</td>\n",
       "    </tr>\n",
       "    <tr>\n",
       "      <th>1</th>\n",
       "      <td>yeah quiet new year day world white get underw...</td>\n",
       "      <td>happy</td>\n",
       "      <td>1</td>\n",
       "    </tr>\n",
       "    <tr>\n",
       "      <th>2</th>\n",
       "      <td>yeah quiet new year day world white get underw...</td>\n",
       "      <td>happy</td>\n",
       "      <td>1</td>\n",
       "    </tr>\n",
       "    <tr>\n",
       "      <th>3</th>\n",
       "      <td>yeah quiet new year day world white get underw...</td>\n",
       "      <td>happy</td>\n",
       "      <td>1</td>\n",
       "    </tr>\n",
       "    <tr>\n",
       "      <th>4</th>\n",
       "      <td>yeah quiet new year day world white get underw...</td>\n",
       "      <td>happy</td>\n",
       "      <td>1</td>\n",
       "    </tr>\n",
       "  </tbody>\n",
       "</table>\n",
       "</div>"
      ],
      "text/plain": [
       "                                               lyric    tag  pos\n",
       "0  ice river run cold city light shine silver gol...  happy    0\n",
       "1  yeah quiet new year day world white get underw...  happy    1\n",
       "2  yeah quiet new year day world white get underw...  happy    1\n",
       "3  yeah quiet new year day world white get underw...  happy    1\n",
       "4  yeah quiet new year day world white get underw...  happy    1"
      ]
     },
     "execution_count": 6,
     "metadata": {},
     "output_type": "execute_result"
    }
   ],
   "source": [
    "df = pd.read_csv('./data/pre_train.csv', names=['lyric', 'tag','pos'])\n",
    "df.head()"
   ]
  },
  {
   "cell_type": "code",
   "execution_count": 7,
   "metadata": {
    "collapsed": true
   },
   "outputs": [],
   "source": [
    "T=[\"happy\",\"love\",\"breakup\",\"sad\",\"death\",\"sex\"]"
   ]
  },
  {
   "cell_type": "code",
   "execution_count": 13,
   "metadata": {
    "collapsed": true
   },
   "outputs": [],
   "source": [
    "DT=dict( [ (it[1],it[0]) for it in enumerate(T)] )"
   ]
  },
  {
   "cell_type": "code",
   "execution_count": 14,
   "metadata": {
    "collapsed": false
   },
   "outputs": [
    {
     "data": {
      "text/plain": [
       "{'breakup': 2, 'death': 4, 'happy': 0, 'love': 1, 'sad': 3, 'sex': 5}"
      ]
     },
     "execution_count": 14,
     "metadata": {},
     "output_type": "execute_result"
    }
   ],
   "source": [
    "DT"
   ]
  },
  {
   "cell_type": "code",
   "execution_count": 114,
   "metadata": {
    "collapsed": false
   },
   "outputs": [
    {
     "name": "stdout",
     "output_type": "stream",
     "text": [
      "18967\n",
      "[2453, 532, 209, 381, 479, 172]\n"
     ]
    }
   ],
   "source": [
    "F={}\n",
    "tot=[0,0,0,0,0,0]\n",
    "for index, row in df.iterrows():\n",
    "    tag= DT[row[1]]\n",
    "    pal = set(row[0].split())\n",
    "    tot[tag]+=1\n",
    "    for x in pal:\n",
    "        if not x in F:\n",
    "            F[x]=[0,0,0,0,0,0]\n",
    "        F[x][tag] += 1\n",
    "print(len(F))\n",
    "print(tot)\n",
    "#print(F.keys())"
   ]
  },
  {
   "cell_type": "code",
   "execution_count": 60,
   "metadata": {
    "collapsed": false
   },
   "outputs": [],
   "source": [
    "L=[]\n",
    "for x in F:\n",
    "    if sum(F[x])<3:\n",
    "        L.append(x)\n",
    "len(L)\n",
    "L=set(L)"
   ]
  },
  {
   "cell_type": "code",
   "execution_count": 115,
   "metadata": {
    "collapsed": false
   },
   "outputs": [],
   "source": [
    "IDF={}\n",
    "for x in F:\n",
    "    IDF[x]=[  int( (t[1]*1.0/tot[t[0]]) > 0.2 )  for t in enumerate(F[x])  ]"
   ]
  },
  {
   "cell_type": "code",
   "execution_count": 116,
   "metadata": {
    "collapsed": true
   },
   "outputs": [],
   "source": [
    "TXT=[[],[],[],[],[],[]]"
   ]
  },
  {
   "cell_type": "code",
   "execution_count": 117,
   "metadata": {
    "collapsed": false
   },
   "outputs": [],
   "source": [
    "FF={}\n",
    "for index, row in df.iterrows():\n",
    "    tag= DT[row[1]]\n",
    "    pal = row[0].split()\n",
    "    #tot[tag]+=1\n",
    "    for x in pal:\n",
    "        if not x in FF:\n",
    "            FF[x]=[0,0,0,0,0,0]\n",
    "        FF[x][tag] += 1\n",
    "#print(len(F))\n",
    "#print(tot)"
   ]
  },
  {
   "cell_type": "code",
   "execution_count": 118,
   "metadata": {
    "collapsed": false
   },
   "outputs": [],
   "source": [
    "for x in FF:\n",
    "    for i in range(6):\n",
    "        FF[x][i] = int( FF[x][i]*(1.0)/ (1+sum(IDF[x])-IDF[x][i] ) )"
   ]
  },
  {
   "cell_type": "code",
   "execution_count": 119,
   "metadata": {
    "collapsed": true
   },
   "outputs": [],
   "source": [
    "for i in range(6):\n",
    "    for x in FF:\n",
    "        for cnt in range(FF[x][i]):\n",
    "            TXT[i].append(x) "
   ]
  },
  {
   "cell_type": "code",
   "execution_count": 120,
   "metadata": {
    "collapsed": false
   },
   "outputs": [
    {
     "data": {
      "text/plain": [
       "[245301, 49829, 19713, 36072, 50975, 17047]"
      ]
     },
     "execution_count": 120,
     "metadata": {},
     "output_type": "execute_result"
    }
   ],
   "source": [
    "[ len(x) for x in TXT ]"
   ]
  },
  {
   "cell_type": "code",
   "execution_count": 121,
   "metadata": {
    "collapsed": true
   },
   "outputs": [],
   "source": [
    "from random import shuffle\n",
    "for i in TXT:\n",
    "    shuffle(i)"
   ]
  },
  {
   "cell_type": "code",
   "execution_count": 8,
   "metadata": {
    "collapsed": false
   },
   "outputs": [
    {
     "data": {
      "text/plain": [
       "1722577"
      ]
     },
     "execution_count": 8,
     "metadata": {},
     "output_type": "execute_result"
    }
   ],
   "source": [
    "text = \"\"\n",
    "for index, row in df.iterrows():\n",
    "    if row[1] == 'happy':\n",
    "        text += row[0]\n",
    "len(text)"
   ]
  },
  {
   "cell_type": "code",
   "execution_count": 10,
   "metadata": {
    "collapsed": false
   },
   "outputs": [],
   "source": [
    "from wordcloud import WordCloud, STOPWORDS\n",
    "from PIL import Image\n",
    "import matplotlib.pyplot as plt"
   ]
  },
  {
   "cell_type": "code",
   "execution_count": 122,
   "metadata": {
    "collapsed": false
   },
   "outputs": [],
   "source": [
    "for ind,w in enumerate(T):\n",
    "    wc = WordCloud(background_color=\"white\", max_words=50)\n",
    "    wc.generate(\" \".join(TXT[ind]))\n",
    "\n",
    "    # store to file\n",
    "    wc.to_file(\"cloud_\"+w+\".png\")\n",
    "\n",
    "#plt.imshow(wc, interpolation='bilinear')\n",
    "#plt.axis(\"off\")\n",
    "#plt.figure()\n",
    "#plt.show()"
   ]
  },
  {
   "cell_type": "code",
   "execution_count": null,
   "metadata": {
    "collapsed": true
   },
   "outputs": [],
   "source": []
  }
 ],
 "metadata": {
  "kernelspec": {
   "display_name": "Python [default]",
   "language": "python",
   "name": "python3"
  },
  "language_info": {
   "codemirror_mode": {
    "name": "ipython",
    "version": 3
   },
   "file_extension": ".py",
   "mimetype": "text/x-python",
   "name": "python",
   "nbconvert_exporter": "python",
   "pygments_lexer": "ipython3",
   "version": "3.5.2"
  }
 },
 "nbformat": 4,
 "nbformat_minor": 2
}
